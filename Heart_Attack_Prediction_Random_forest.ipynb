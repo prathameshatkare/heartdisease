{
  "nbformat": 4,
  "nbformat_minor": 0,
  "metadata": {
    "colab": {
      "name": "Heart-Attack Prediction.ipynb",
      "provenance": [],
      "include_colab_link": true
    },
    "kernelspec": {
      "name": "python3",
      "display_name": "Python 3"
    },
    "language_info": {
      "name": "python"
    }
  },
  "cells": [
    {
      "cell_type": "markdown",
      "metadata": {
        "id": "view-in-github",
        "colab_type": "text"
      },
      "source": [
        "<a href=\"https://colab.research.google.com/github/devshub21/Heart-disease-prediction-using-ML/blob/main/Heart_Attack_Prediction_Random_forest.ipynb\" target=\"_parent\"><img src=\"https://colab.research.google.com/assets/colab-badge.svg\" alt=\"Open In Colab\"/></a>"
      ]
    },
    {
      "cell_type": "code",
      "metadata": {
        "id": "UhKATGY98LEn"
      },
      "source": [
        "import numpy as np\n",
        "import pandas as pd"
      ],
      "execution_count": null,
      "outputs": []
    },
    {
      "cell_type": "code",
      "metadata": {
        "colab": {
          "base_uri": "https://localhost:8080/"
        },
        "id": "K1SE8CTr8jz5",
        "outputId": "dacd3f31-02bf-416e-c90c-c21c8786c937"
      },
      "source": [
        "dataset = pd.read_csv('data.csv')\n",
        "print(dataset)"
      ],
      "execution_count": null,
      "outputs": [
        {
          "output_type": "stream",
          "text": [
            "      age  sex  chest pain type  ...  oldpeak  ST slope  target\n",
            "0      40    1                2  ...      0.0         1       0\n",
            "1      49    0                3  ...      1.0         2       1\n",
            "2      37    1                2  ...      0.0         1       0\n",
            "3      48    0                4  ...      1.5         2       1\n",
            "4      54    1                3  ...      0.0         1       0\n",
            "...   ...  ...              ...  ...      ...       ...     ...\n",
            "1185   45    1                1  ...      1.2         2       1\n",
            "1186   68    1                4  ...      3.4         2       1\n",
            "1187   57    1                4  ...      1.2         2       1\n",
            "1188   57    0                2  ...      0.0         2       1\n",
            "1189   38    1                3  ...      0.0         1       0\n",
            "\n",
            "[1190 rows x 12 columns]\n"
          ],
          "name": "stdout"
        }
      ]
    },
    {
      "cell_type": "code",
      "metadata": {
        "colab": {
          "base_uri": "https://localhost:8080/"
        },
        "id": "xtspJI6P89RA",
        "outputId": "13153d79-8560-45d0-8d5c-bcb24b0d5f51"
      },
      "source": [
        "X = dataset.iloc[:,0:11]\n",
        "Y = dataset.iloc[:,11]\n",
        "print(X)\n",
        "print(Y)"
      ],
      "execution_count": null,
      "outputs": [
        {
          "output_type": "stream",
          "text": [
            "      age  sex  chest pain type  ...  exercise angina  oldpeak  ST slope\n",
            "0      40    1                2  ...                0      0.0         1\n",
            "1      49    0                3  ...                0      1.0         2\n",
            "2      37    1                2  ...                0      0.0         1\n",
            "3      48    0                4  ...                1      1.5         2\n",
            "4      54    1                3  ...                0      0.0         1\n",
            "...   ...  ...              ...  ...              ...      ...       ...\n",
            "1185   45    1                1  ...                0      1.2         2\n",
            "1186   68    1                4  ...                0      3.4         2\n",
            "1187   57    1                4  ...                1      1.2         2\n",
            "1188   57    0                2  ...                0      0.0         2\n",
            "1189   38    1                3  ...                0      0.0         1\n",
            "\n",
            "[1190 rows x 11 columns]\n",
            "0       0\n",
            "1       1\n",
            "2       0\n",
            "3       1\n",
            "4       0\n",
            "       ..\n",
            "1185    1\n",
            "1186    1\n",
            "1187    1\n",
            "1188    1\n",
            "1189    0\n",
            "Name: target, Length: 1190, dtype: int64\n"
          ],
          "name": "stdout"
        }
      ]
    },
    {
      "cell_type": "code",
      "metadata": {
        "colab": {
          "base_uri": "https://localhost:8080/"
        },
        "id": "Ea8lOco19sWw",
        "outputId": "ecdf6756-1346-4e2e-8e5c-dfdea3f133d7"
      },
      "source": [
        "from sklearn.model_selection import train_test_split\n",
        "X_train, X_test, Y_train, Y_test = train_test_split(X, Y, test_size = 0.2)\n",
        "print(X_train.shape, X_test.shape)"
      ],
      "execution_count": null,
      "outputs": [
        {
          "output_type": "stream",
          "text": [
            "(952, 11) (238, 11)\n"
          ],
          "name": "stdout"
        }
      ]
    },
    {
      "cell_type": "code",
      "metadata": {
        "colab": {
          "base_uri": "https://localhost:8080/"
        },
        "id": "mzHTAq4k94CF",
        "outputId": "a8a69b0f-0864-40ff-899a-28b74cef025d"
      },
      "source": [
        "#Logistic Regression\n",
        "\n",
        "from sklearn.linear_model import LogisticRegression\n",
        "\n",
        "logReg = LogisticRegression(solver='lbfgs', max_iter=1000)\n",
        "logReg.fit(X_train, Y_train)\n",
        "\n",
        "Y_pred = logReg.predict(X_test)\n",
        "print(Y_test, Y_pred)"
      ],
      "execution_count": null,
      "outputs": [
        {
          "output_type": "stream",
          "text": [
            "1149    0\n",
            "734     1\n",
            "1117    0\n",
            "585     1\n",
            "750     1\n",
            "       ..\n",
            "542     1\n",
            "153     0\n",
            "5       0\n",
            "1       1\n",
            "509     1\n",
            "Name: target, Length: 238, dtype: int64 [0 1 0 1 1 0 0 1 1 0 0 1 1 0 0 1 1 1 0 1 1 1 0 0 1 0 1 1 0 0 0 1 1 0 1 0 0\n",
            " 0 0 1 1 1 0 0 0 0 0 0 0 0 0 0 1 1 0 0 1 1 1 0 0 0 0 1 0 1 1 1 1 0 0 0 0 0\n",
            " 0 1 0 1 0 0 1 1 1 1 1 1 1 0 1 1 1 1 1 1 0 1 1 1 0 1 0 1 0 1 1 1 0 0 1 1 1\n",
            " 0 0 1 1 1 1 1 0 1 1 1 0 0 1 1 1 1 0 1 1 1 1 1 0 1 0 0 1 1 0 1 1 0 0 1 1 1\n",
            " 0 0 0 0 1 0 1 1 0 1 1 1 1 1 0 1 1 0 0 0 1 0 0 0 0 1 1 1 0 0 0 0 1 0 1 0 1\n",
            " 1 0 1 0 1 0 1 0 1 0 0 0 0 0 1 0 0 1 0 0 1 1 0 0 1 1 0 0 0 1 1 0 0 0 1 0 0\n",
            " 1 0 0 1 0 0 0 1 1 0 1 1 0 0 0 1]\n"
          ],
          "name": "stdout"
        }
      ]
    },
    {
      "cell_type": "code",
      "metadata": {
        "colab": {
          "base_uri": "https://localhost:8080/"
        },
        "id": "G88BS9iC9wyu",
        "outputId": "cab43a39-8940-4823-e51b-f2a3612228ff"
      },
      "source": [
        "from sklearn.metrics import  confusion_matrix, accuracy_score, precision_score, recall_score\n",
        "\n",
        "print(\"Confusion Matrix:\\n\", confusion_matrix(Y_test, Y_pred))\n",
        "print(\"Accuracy:\\n\", accuracy_score(Y_test, Y_pred)) \n",
        "print(\"Precision:\\n\", precision_score(Y_test, Y_pred, average=None))\n",
        "print(\"Recall:\\n\", recall_score(Y_test, Y_pred, average = None))"
      ],
      "execution_count": null,
      "outputs": [
        {
          "output_type": "stream",
          "text": [
            "Confusion Matrix:\n",
            " [[ 93  12]\n",
            " [ 24 109]]\n",
            "Accuracy:\n",
            " 0.8487394957983193\n",
            "Precision:\n",
            " [0.79487179 0.90082645]\n",
            "Recall:\n",
            " [0.88571429 0.81954887]\n"
          ],
          "name": "stdout"
        }
      ]
    },
    {
      "cell_type": "code",
      "metadata": {
        "colab": {
          "base_uri": "https://localhost:8080/"
        },
        "id": "5ol5hptM90q2",
        "outputId": "cedec485-2129-45aa-a701-c87a4afdaa77"
      },
      "source": [
        "#KNN Classifier\n",
        "\n",
        "from sklearn.neighbors import KNeighborsClassifier\n",
        "knn = KNeighborsClassifier()\n",
        "knn.fit(X_train, Y_train)\n",
        "\n",
        "Y_pred_knn = knn.predict(X_test)\n",
        "\n",
        "print(\"Confusion Matrix:\\n\", confusion_matrix(Y_test, Y_pred_knn))\n",
        "print(\"Accuracy:\\n\", accuracy_score(Y_test, Y_pred_knn)) "
      ],
      "execution_count": null,
      "outputs": [
        {
          "output_type": "stream",
          "text": [
            "Confusion Matrix:\n",
            " [[71 34]\n",
            " [45 88]]\n",
            "Accuracy:\n",
            " 0.6680672268907563\n"
          ],
          "name": "stdout"
        }
      ]
    },
    {
      "cell_type": "code",
      "metadata": {
        "colab": {
          "base_uri": "https://localhost:8080/"
        },
        "id": "Ydsa5qk5-8Y9",
        "outputId": "d9bd7fb0-98d0-4010-9eed-0856cc300d32"
      },
      "source": [
        "#Decision Tree\n",
        "from sklearn.tree import DecisionTreeClassifier\n",
        "\n",
        "dtc= DecisionTreeClassifier()\n",
        "dtc.fit(X_train, Y_train)\n",
        "\n",
        "Y_pred_dtc = dtc.predict(X_test)\n",
        "\n",
        "print(\"Confusion Matrix:\\n\", confusion_matrix(Y_test, Y_pred_dtc))\n",
        "print(\"Accuracy:\\n\", accuracy_score(Y_test, Y_pred_dtc)) "
      ],
      "execution_count": null,
      "outputs": [
        {
          "output_type": "stream",
          "text": [
            "Confusion Matrix:\n",
            " [[ 97   8]\n",
            " [ 14 119]]\n",
            "Accuracy:\n",
            " 0.907563025210084\n"
          ],
          "name": "stdout"
        }
      ]
    },
    {
      "cell_type": "code",
      "metadata": {
        "colab": {
          "base_uri": "https://localhost:8080/"
        },
        "id": "gb6xQ4to_AFR",
        "outputId": "af96f371-afc7-4332-bd9b-be767e4ef0a3"
      },
      "source": [
        "#Random Forest\n",
        "from sklearn.ensemble import RandomForestClassifier\n",
        "\n",
        "rfc = RandomForestClassifier()\n",
        "rfc.fit(X_train, Y_train)\n",
        "\n",
        "Y_pred_rfc = rfc.predict(X_test)\n",
        "\n",
        "print(\"Confusion Matrix:\\n\", confusion_matrix(Y_test, Y_pred_rfc))\n",
        "print(\"Accuracy:\\n\", accuracy_score(Y_test, Y_pred_rfc))\n"
      ],
      "execution_count": null,
      "outputs": [
        {
          "output_type": "stream",
          "text": [
            "Confusion Matrix:\n",
            " [[ 99   6]\n",
            " [  7 126]]\n",
            "Accuracy:\n",
            " 0.9453781512605042\n"
          ],
          "name": "stdout"
        }
      ]
    }
  ]
}